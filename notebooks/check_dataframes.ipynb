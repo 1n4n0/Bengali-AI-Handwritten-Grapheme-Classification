{
 "metadata": {
  "language_info": {
   "codemirror_mode": {
    "name": "ipython",
    "version": 3
   },
   "file_extension": ".py",
   "mimetype": "text/x-python",
   "name": "python",
   "nbconvert_exporter": "python",
   "pygments_lexer": "ipython3",
   "version": "3.6.9-final"
  },
  "orig_nbformat": 2,
  "kernelspec": {
   "name": "python3",
   "display_name": "Python 3.6.9 64-bit",
   "metadata": {
    "interpreter": {
     "hash": "31f2aee4e71d21fbe5cf8b01ff0e069b9275f58929596ceb00d14d90e3e16cd6"
    }
   }
  }
 },
 "nbformat": 4,
 "nbformat_minor": 2,
 "cells": [
  {
   "cell_type": "code",
   "execution_count": 1,
   "metadata": {},
   "outputs": [],
   "source": [
    "import pandas as pd"
   ]
  },
  {
   "cell_type": "code",
   "execution_count": 2,
   "metadata": {},
   "outputs": [],
   "source": [
    "df = pd.read_parquet(\"/root/input/train_image_data_0.parquet\")"
   ]
  },
  {
   "cell_type": "code",
   "execution_count": 3,
   "metadata": {},
   "outputs": [
    {
     "output_type": "execute_result",
     "data": {
      "text/plain": [
       "  image_id    0    1    2    3    4  ...  32326  32327  32328  32329  32330  32331\n",
       "0  Train_0  254  253  252  253  251  ...    253    253    253    253    253    251\n",
       "1  Train_1  251  244  238  245  248  ...    255    255    255    255    255    254\n",
       "2  Train_2  251  250  249  250  249  ...    253    253    253    253    251    249\n",
       "3  Train_3  247  247  249  253  253  ...    254    253    253    252    251    252\n",
       "4  Train_4  249  248  246  246  248  ...    255    255    255    255    255    255\n",
       "\n",
       "[5 rows x 32333 columns]"
      ],
      "text/html": "<div>\n<style scoped>\n    .dataframe tbody tr th:only-of-type {\n        vertical-align: middle;\n    }\n\n    .dataframe tbody tr th {\n        vertical-align: top;\n    }\n\n    .dataframe thead th {\n        text-align: right;\n    }\n</style>\n<table border=\"1\" class=\"dataframe\">\n  <thead>\n    <tr style=\"text-align: right;\">\n      <th></th>\n      <th>image_id</th>\n      <th>0</th>\n      <th>1</th>\n      <th>2</th>\n      <th>3</th>\n      <th>4</th>\n      <th>5</th>\n      <th>6</th>\n      <th>7</th>\n      <th>8</th>\n      <th>9</th>\n      <th>10</th>\n      <th>11</th>\n      <th>12</th>\n      <th>13</th>\n      <th>14</th>\n      <th>15</th>\n      <th>16</th>\n      <th>17</th>\n      <th>18</th>\n      <th>19</th>\n      <th>20</th>\n      <th>21</th>\n      <th>22</th>\n      <th>23</th>\n      <th>24</th>\n      <th>25</th>\n      <th>26</th>\n      <th>27</th>\n      <th>28</th>\n      <th>29</th>\n      <th>30</th>\n      <th>31</th>\n      <th>32</th>\n      <th>33</th>\n      <th>34</th>\n      <th>35</th>\n      <th>36</th>\n      <th>37</th>\n      <th>38</th>\n      <th>...</th>\n      <th>32292</th>\n      <th>32293</th>\n      <th>32294</th>\n      <th>32295</th>\n      <th>32296</th>\n      <th>32297</th>\n      <th>32298</th>\n      <th>32299</th>\n      <th>32300</th>\n      <th>32301</th>\n      <th>32302</th>\n      <th>32303</th>\n      <th>32304</th>\n      <th>32305</th>\n      <th>32306</th>\n      <th>32307</th>\n      <th>32308</th>\n      <th>32309</th>\n      <th>32310</th>\n      <th>32311</th>\n      <th>32312</th>\n      <th>32313</th>\n      <th>32314</th>\n      <th>32315</th>\n      <th>32316</th>\n      <th>32317</th>\n      <th>32318</th>\n      <th>32319</th>\n      <th>32320</th>\n      <th>32321</th>\n      <th>32322</th>\n      <th>32323</th>\n      <th>32324</th>\n      <th>32325</th>\n      <th>32326</th>\n      <th>32327</th>\n      <th>32328</th>\n      <th>32329</th>\n      <th>32330</th>\n      <th>32331</th>\n    </tr>\n  </thead>\n  <tbody>\n    <tr>\n      <th>0</th>\n      <td>Train_0</td>\n      <td>254</td>\n      <td>253</td>\n      <td>252</td>\n      <td>253</td>\n      <td>251</td>\n      <td>252</td>\n      <td>253</td>\n      <td>251</td>\n      <td>251</td>\n      <td>253</td>\n      <td>254</td>\n      <td>253</td>\n      <td>253</td>\n      <td>253</td>\n      <td>254</td>\n      <td>253</td>\n      <td>252</td>\n      <td>253</td>\n      <td>253</td>\n      <td>253</td>\n      <td>253</td>\n      <td>252</td>\n      <td>252</td>\n      <td>253</td>\n      <td>253</td>\n      <td>252</td>\n      <td>252</td>\n      <td>253</td>\n      <td>252</td>\n      <td>252</td>\n      <td>252</td>\n      <td>253</td>\n      <td>254</td>\n      <td>253</td>\n      <td>253</td>\n      <td>252</td>\n      <td>252</td>\n      <td>252</td>\n      <td>253</td>\n      <td>...</td>\n      <td>252</td>\n      <td>252</td>\n      <td>252</td>\n      <td>252</td>\n      <td>252</td>\n      <td>252</td>\n      <td>252</td>\n      <td>252</td>\n      <td>252</td>\n      <td>252</td>\n      <td>252</td>\n      <td>252</td>\n      <td>252</td>\n      <td>252</td>\n      <td>252</td>\n      <td>252</td>\n      <td>252</td>\n      <td>252</td>\n      <td>252</td>\n      <td>252</td>\n      <td>252</td>\n      <td>252</td>\n      <td>253</td>\n      <td>253</td>\n      <td>253</td>\n      <td>253</td>\n      <td>253</td>\n      <td>253</td>\n      <td>253</td>\n      <td>253</td>\n      <td>253</td>\n      <td>253</td>\n      <td>253</td>\n      <td>253</td>\n      <td>253</td>\n      <td>253</td>\n      <td>253</td>\n      <td>253</td>\n      <td>253</td>\n      <td>251</td>\n    </tr>\n    <tr>\n      <th>1</th>\n      <td>Train_1</td>\n      <td>251</td>\n      <td>244</td>\n      <td>238</td>\n      <td>245</td>\n      <td>248</td>\n      <td>246</td>\n      <td>246</td>\n      <td>247</td>\n      <td>251</td>\n      <td>252</td>\n      <td>250</td>\n      <td>250</td>\n      <td>246</td>\n      <td>249</td>\n      <td>248</td>\n      <td>250</td>\n      <td>249</td>\n      <td>251</td>\n      <td>252</td>\n      <td>253</td>\n      <td>253</td>\n      <td>253</td>\n      <td>253</td>\n      <td>253</td>\n      <td>253</td>\n      <td>253</td>\n      <td>250</td>\n      <td>249</td>\n      <td>251</td>\n      <td>252</td>\n      <td>251</td>\n      <td>251</td>\n      <td>251</td>\n      <td>251</td>\n      <td>252</td>\n      <td>253</td>\n      <td>251</td>\n      <td>250</td>\n      <td>252</td>\n      <td>...</td>\n      <td>255</td>\n      <td>255</td>\n      <td>255</td>\n      <td>255</td>\n      <td>255</td>\n      <td>255</td>\n      <td>255</td>\n      <td>255</td>\n      <td>255</td>\n      <td>255</td>\n      <td>255</td>\n      <td>255</td>\n      <td>255</td>\n      <td>255</td>\n      <td>255</td>\n      <td>255</td>\n      <td>255</td>\n      <td>255</td>\n      <td>255</td>\n      <td>255</td>\n      <td>255</td>\n      <td>255</td>\n      <td>255</td>\n      <td>255</td>\n      <td>255</td>\n      <td>255</td>\n      <td>255</td>\n      <td>255</td>\n      <td>255</td>\n      <td>255</td>\n      <td>255</td>\n      <td>255</td>\n      <td>255</td>\n      <td>255</td>\n      <td>255</td>\n      <td>255</td>\n      <td>255</td>\n      <td>255</td>\n      <td>255</td>\n      <td>254</td>\n    </tr>\n    <tr>\n      <th>2</th>\n      <td>Train_2</td>\n      <td>251</td>\n      <td>250</td>\n      <td>249</td>\n      <td>250</td>\n      <td>249</td>\n      <td>245</td>\n      <td>247</td>\n      <td>252</td>\n      <td>252</td>\n      <td>252</td>\n      <td>253</td>\n      <td>252</td>\n      <td>252</td>\n      <td>251</td>\n      <td>250</td>\n      <td>251</td>\n      <td>253</td>\n      <td>254</td>\n      <td>251</td>\n      <td>251</td>\n      <td>252</td>\n      <td>252</td>\n      <td>253</td>\n      <td>253</td>\n      <td>252</td>\n      <td>251</td>\n      <td>251</td>\n      <td>249</td>\n      <td>251</td>\n      <td>252</td>\n      <td>252</td>\n      <td>253</td>\n      <td>252</td>\n      <td>251</td>\n      <td>251</td>\n      <td>251</td>\n      <td>250</td>\n      <td>250</td>\n      <td>252</td>\n      <td>...</td>\n      <td>253</td>\n      <td>253</td>\n      <td>252</td>\n      <td>252</td>\n      <td>252</td>\n      <td>253</td>\n      <td>253</td>\n      <td>253</td>\n      <td>253</td>\n      <td>253</td>\n      <td>252</td>\n      <td>251</td>\n      <td>251</td>\n      <td>250</td>\n      <td>250</td>\n      <td>250</td>\n      <td>251</td>\n      <td>251</td>\n      <td>251</td>\n      <td>250</td>\n      <td>250</td>\n      <td>250</td>\n      <td>251</td>\n      <td>252</td>\n      <td>253</td>\n      <td>253</td>\n      <td>253</td>\n      <td>253</td>\n      <td>254</td>\n      <td>254</td>\n      <td>254</td>\n      <td>253</td>\n      <td>252</td>\n      <td>252</td>\n      <td>253</td>\n      <td>253</td>\n      <td>253</td>\n      <td>253</td>\n      <td>251</td>\n      <td>249</td>\n    </tr>\n    <tr>\n      <th>3</th>\n      <td>Train_3</td>\n      <td>247</td>\n      <td>247</td>\n      <td>249</td>\n      <td>253</td>\n      <td>253</td>\n      <td>252</td>\n      <td>251</td>\n      <td>251</td>\n      <td>250</td>\n      <td>250</td>\n      <td>251</td>\n      <td>250</td>\n      <td>249</td>\n      <td>251</td>\n      <td>251</td>\n      <td>251</td>\n      <td>250</td>\n      <td>252</td>\n      <td>251</td>\n      <td>245</td>\n      <td>245</td>\n      <td>251</td>\n      <td>252</td>\n      <td>251</td>\n      <td>252</td>\n      <td>252</td>\n      <td>250</td>\n      <td>249</td>\n      <td>250</td>\n      <td>251</td>\n      <td>250</td>\n      <td>249</td>\n      <td>250</td>\n      <td>251</td>\n      <td>252</td>\n      <td>253</td>\n      <td>252</td>\n      <td>252</td>\n      <td>252</td>\n      <td>...</td>\n      <td>253</td>\n      <td>252</td>\n      <td>252</td>\n      <td>254</td>\n      <td>253</td>\n      <td>253</td>\n      <td>254</td>\n      <td>253</td>\n      <td>252</td>\n      <td>253</td>\n      <td>254</td>\n      <td>253</td>\n      <td>252</td>\n      <td>253</td>\n      <td>254</td>\n      <td>254</td>\n      <td>254</td>\n      <td>254</td>\n      <td>254</td>\n      <td>254</td>\n      <td>254</td>\n      <td>254</td>\n      <td>253</td>\n      <td>252</td>\n      <td>253</td>\n      <td>254</td>\n      <td>253</td>\n      <td>252</td>\n      <td>253</td>\n      <td>254</td>\n      <td>254</td>\n      <td>254</td>\n      <td>254</td>\n      <td>254</td>\n      <td>254</td>\n      <td>253</td>\n      <td>253</td>\n      <td>252</td>\n      <td>251</td>\n      <td>252</td>\n    </tr>\n    <tr>\n      <th>4</th>\n      <td>Train_4</td>\n      <td>249</td>\n      <td>248</td>\n      <td>246</td>\n      <td>246</td>\n      <td>248</td>\n      <td>244</td>\n      <td>242</td>\n      <td>242</td>\n      <td>229</td>\n      <td>225</td>\n      <td>231</td>\n      <td>229</td>\n      <td>229</td>\n      <td>228</td>\n      <td>221</td>\n      <td>224</td>\n      <td>226</td>\n      <td>221</td>\n      <td>221</td>\n      <td>220</td>\n      <td>217</td>\n      <td>217</td>\n      <td>218</td>\n      <td>219</td>\n      <td>222</td>\n      <td>224</td>\n      <td>214</td>\n      <td>218</td>\n      <td>227</td>\n      <td>227</td>\n      <td>227</td>\n      <td>228</td>\n      <td>224</td>\n      <td>231</td>\n      <td>235</td>\n      <td>235</td>\n      <td>233</td>\n      <td>212</td>\n      <td>183</td>\n      <td>...</td>\n      <td>255</td>\n      <td>255</td>\n      <td>255</td>\n      <td>255</td>\n      <td>255</td>\n      <td>255</td>\n      <td>255</td>\n      <td>255</td>\n      <td>255</td>\n      <td>255</td>\n      <td>255</td>\n      <td>255</td>\n      <td>255</td>\n      <td>255</td>\n      <td>255</td>\n      <td>255</td>\n      <td>255</td>\n      <td>255</td>\n      <td>255</td>\n      <td>255</td>\n      <td>255</td>\n      <td>255</td>\n      <td>255</td>\n      <td>255</td>\n      <td>255</td>\n      <td>255</td>\n      <td>255</td>\n      <td>255</td>\n      <td>255</td>\n      <td>255</td>\n      <td>255</td>\n      <td>255</td>\n      <td>255</td>\n      <td>255</td>\n      <td>255</td>\n      <td>255</td>\n      <td>255</td>\n      <td>255</td>\n      <td>255</td>\n      <td>255</td>\n    </tr>\n  </tbody>\n</table>\n<p>5 rows × 32333 columns</p>\n</div>"
     },
     "metadata": {},
     "execution_count": 3
    }
   ],
   "source": [
    "df.head()"
   ]
  },
  {
   "cell_type": "code",
   "execution_count": null,
   "metadata": {},
   "outputs": [],
   "source": []
  }
 ]
}